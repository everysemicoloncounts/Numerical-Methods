{
 "cells": [
  {
   "cell_type": "code",
   "execution_count": 3,
   "metadata": {},
   "outputs": [],
   "source": [
    "import math"
   ]
  },
  {
   "cell_type": "code",
   "execution_count": 5,
   "metadata": {},
   "outputs": [
    {
     "name": "stdout",
     "output_type": "stream",
     "text": [
      "(0.7606898691941453-0.8578736272562333j)\n"
     ]
    }
   ],
   "source": [
    "MAX_ITERATIONS = 10000; \n",
    "  \n",
    "# Function to calculate f(x) \n",
    "def f(x): \n",
    "\n",
    "    return (1 * pow(x, 3) - x + 2); \n",
    "  \n",
    "def Muller(x0, x1, x2, TOL): \n",
    "  \n",
    "    res = 0; \n",
    "    i = 0; \n",
    "    h1 = x1 - x0;  \n",
    "    h2 = x2 - x1; \n",
    "    \n",
    "    f0 = f(x0); f1 = f(x1); f2 = f(x2); \n",
    "    \n",
    "    d1 = (f1 - f0)/h1;  \n",
    "    d2 = (f2 - f1)/h2; \n",
    "    d = (d2-d1)/(h1+h2) \n",
    "    i=1\n",
    "    while (True): \n",
    "      \n",
    "        # Calculating various constants  \n",
    "        # required to calculate x3 \n",
    "       \n",
    "        b = d2 +h2*d\n",
    "        D = ((pow(b,2))-4*f2*d)**(1/2)\n",
    "\n",
    "        E=0\n",
    "        if(abs(b-D)<abs(b+d)):\n",
    "            E = b + D\n",
    "        else:\n",
    "            E = b - D\n",
    "\n",
    "        h = -2*f2/E\n",
    "        p = x2 + h\n",
    "\n",
    "        if(abs(h)<TOL):\n",
    "            return p\n",
    "        # Taking the root which is  \n",
    "        # closer to x2 \n",
    "        else:\n",
    "            x0=x1\n",
    "            x1=x2\n",
    "            x2=p\n",
    "            h1 = x1 - x0;  \n",
    "            h2 = x2 - x1; \n",
    "    \n",
    "            f0 = f(x0); f1 = f(x1); f2 = f(x2); \n",
    "            \n",
    "            d1 = (f1 - f0)/h1;  \n",
    "            d2 = (f2 - f1)/h2; \n",
    "            d = (d2-d1)/(h1+h2) \n",
    "       \n",
    "        if (i > MAX_ITERATIONS): \n",
    "            print(\"Root cannot be found using Muller's method\"); \n",
    "            break; \n",
    "        i += 1; \n",
    "    if (i <= MAX_ITERATIONS): \n",
    "        print(\"The value of the root is\", round(res, 4)); \n",
    "  \n",
    "# Driver Code \n",
    "a = -1; \n",
    "b = -0.5; \n",
    "c = 0; \n",
    "e = 0.0001\n",
    "print(Muller(a, b, c, e))"
   ]
  },
  {
   "cell_type": "code",
   "execution_count": null,
   "metadata": {},
   "outputs": [],
   "source": []
  }
 ],
 "metadata": {
  "kernelspec": {
   "display_name": "Python 3",
   "language": "python",
   "name": "python3"
  },
  "language_info": {
   "codemirror_mode": {
    "name": "ipython",
    "version": 3
   },
   "file_extension": ".py",
   "mimetype": "text/x-python",
   "name": "python",
   "nbconvert_exporter": "python",
   "pygments_lexer": "ipython3",
   "version": "3.8.5"
  }
 },
 "nbformat": 4,
 "nbformat_minor": 4
}
