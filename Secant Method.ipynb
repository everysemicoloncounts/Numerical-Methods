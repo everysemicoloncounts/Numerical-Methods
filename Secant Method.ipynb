{
 "cells": [
  {
   "cell_type": "code",
   "execution_count": 1,
   "metadata": {},
   "outputs": [],
   "source": [
    "import math"
   ]
  },
  {
   "cell_type": "code",
   "execution_count": 2,
   "metadata": {},
   "outputs": [
    {
     "name": "stdout",
     "output_type": "stream",
     "text": [
      "Enter First Guess: 0\n",
      "Enter Second Guess: 3\n",
      "Tolerable Error: .0000001\n",
      "Maximum Step: 20\n",
      "\n",
      "\n",
      "*** SECANT METHOD IMPLEMENTATION ***\n",
      "Iteration-1, x2 = 2.250000 and f(x2) = -8.859375\n",
      "Iteration-2, x2 = 2.810277 and f(x2) = -0.856788\n",
      "Iteration-3, x2 = 2.870262 and f(x2) = 0.295069\n",
      "Iteration-4, x2 = 2.854896 and f(x2) = -0.005852\n",
      "Iteration-5, x2 = 2.855195 and f(x2) = -0.000039\n",
      "Iteration-6, x2 = 2.855197 and f(x2) = 0.000000\n",
      "\n",
      " Required root is: 2.85519654\n"
     ]
    }
   ],
   "source": [
    "# Defining Function\n",
    "def f(x):\n",
    "    return x**3 - 5*x - 9\n",
    "\n",
    "# Implementing Secant Method\n",
    "\n",
    "def secant(x0,x1,e,N):\n",
    "    print('\\n\\n*** SECANT METHOD IMPLEMENTATION ***')\n",
    "    step = 1\n",
    "    condition = True\n",
    "    while condition:\n",
    "        if f(x0) == f(x1):\n",
    "            print('Divide by zero error!')\n",
    "            break\n",
    "        \n",
    "        x2 = x0 - (x1-x0)*f(x0)/( f(x1) - f(x0) ) \n",
    "        print('Iteration-%d, x2 = %0.6f and f(x2) = %0.6f' % (step, x2, f(x2)))\n",
    "        x0 = x1\n",
    "        x1 = x2\n",
    "        step = step + 1\n",
    "        \n",
    "        if step > N:\n",
    "            print('Not Convergent!')\n",
    "            break\n",
    "        \n",
    "        condition = abs(f(x2)) > e\n",
    "    print('\\n Required root is: %0.8f' % x2)\n",
    "\n",
    "\n",
    "# Input Section\n",
    "x0 = input('Enter First Guess: ')\n",
    "x1 = input('Enter Second Guess: ')\n",
    "e = input('Tolerable Error: ')\n",
    "N = input('Maximum Step: ')\n",
    "\n",
    "# Converting x0 and e to float\n",
    "x0 = float(x0)\n",
    "x1 = float(x1)\n",
    "e = float(e)\n",
    "\n",
    "# Converting N to integer\n",
    "N = int(N)\n",
    "\n",
    "\n",
    "#Note: You can combine above three section like this\n",
    "# x0 = float(input('Enter First Guess: '))\n",
    "# x1 = float(input('Enter Second Guess: '))\n",
    "# e = float(input('Tolerable Error: '))\n",
    "# N = int(input('Maximum Step: '))\n",
    "\n",
    "# Starting Secant Method\n",
    "secant(x0,x1,e,N)"
   ]
  },
  {
   "cell_type": "code",
   "execution_count": null,
   "metadata": {},
   "outputs": [],
   "source": []
  }
 ],
 "metadata": {
  "kernelspec": {
   "display_name": "Python 3",
   "language": "python",
   "name": "python3"
  },
  "language_info": {
   "codemirror_mode": {
    "name": "ipython",
    "version": 3
   },
   "file_extension": ".py",
   "mimetype": "text/x-python",
   "name": "python",
   "nbconvert_exporter": "python",
   "pygments_lexer": "ipython3",
   "version": "3.8.5"
  }
 },
 "nbformat": 4,
 "nbformat_minor": 4
}
