{
 "cells": [
  {
   "cell_type": "code",
   "execution_count": 3,
   "metadata": {},
   "outputs": [],
   "source": [
    "import math"
   ]
  },
  {
   "cell_type": "code",
   "execution_count": 4,
   "metadata": {},
   "outputs": [
    {
     "name": "stdout",
     "output_type": "stream",
     "text": [
      "Enter Guess: -1.5\n",
      "Tolerable Error: .0000001\n",
      "Maximum Step: 30\n",
      "\n",
      "\n",
      "*** MODIFIED NEWTON RAPHSON METHOD IMPLEMENTATION ***\n",
      "Iteration-1, x1 = -1.035890 and f(x1) = -0.182477\n",
      "Iteration-2, x1 = -0.626678 and f(x1) = -0.067761\n",
      "Iteration-3, x1 = -0.332388 and f(x1) = -0.005755\n",
      "Iteration-4, x1 = -0.201898 and f(x1) = -0.000035\n",
      "Iteration-5, x1 = -0.327850 and f(x1) = -0.005317\n",
      "Iteration-6, x1 = -0.200667 and f(x1) = -0.000031\n",
      "Iteration-7, x1 = -0.271258 and f(x1) = -0.001435\n",
      "Iteration-8, x1 = -0.187030 and f(x1) = -0.000014\n",
      "Iteration-9, x1 = -0.198002 and f(x1) = -0.000025\n",
      "Iteration-10, x1 = -0.229748 and f(x1) = -0.000259\n",
      "Iteration-11, x1 = -0.174565 and f(x1) = -0.000007\n",
      "Iteration-12, x1 = -0.171104 and f(x1) = -0.000003\n",
      "Iteration-13, x1 = -0.169746 and f(x1) = -0.000000\n",
      "Iteration-14, x1 = -0.169608 and f(x1) = -0.000000\n",
      "\n",
      "Required root is: -0.16960774\n"
     ]
    }
   ],
   "source": [
    "# Defining Function\n",
    "def f(x):\n",
    "    return math.exp(6*x) + 1.441*math.exp(2*x) - 2.079*math.exp(4*x) - 0.3330\n",
    "\n",
    "# Defining first derivative of function\n",
    "def g(x):\n",
    "    return 6*math.exp(6*x) + 2.882*math.exp(2*x) - 8.316*math.exp(4*x)\n",
    "\n",
    "#Defining second derivative of function\n",
    "def h(x):\n",
    "    return 36*math.exp(6*x) + 5.764*math.exp(2*x) - 33.264*math.exp(4*x)\n",
    "\n",
    "# Implementing Newton Raphson Method\n",
    "\n",
    "def newtonRaphson(x0,e,N):\n",
    "    print('\\n\\n*** MODIFIED NEWTON RAPHSON METHOD IMPLEMENTATION ***')\n",
    "    step = 1\n",
    "    flag = 1\n",
    "    condition = True\n",
    "    while condition:\n",
    "        if g(x0) == 0.0:\n",
    "            print('Divide by zero error!')\n",
    "            break\n",
    "        \n",
    "        x1 = x0 - (f(x0)*g(x0))/(g(x0)*g(x0)-f(x0)*h(x0))\n",
    "        print('Iteration-%d, x1 = %0.6f and f(x1) = %0.6f' % (step, x1, f(x1)))\n",
    "        x0 = x1\n",
    "        step = step + 1\n",
    "        \n",
    "        if step > N:\n",
    "            flag = 0\n",
    "            break\n",
    "        \n",
    "        condition = abs(f(x1)) > e\n",
    "    \n",
    "    if flag==1:\n",
    "        print('\\nRequired root is: %0.8f' % x1)\n",
    "    else:\n",
    "        print('\\nNot Convergent.')\n",
    "\n",
    "\n",
    "# Input Section\n",
    "x0 = input('Enter Guess: ')\n",
    "e = input('Tolerable Error: ')\n",
    "N = input('Maximum Step: ')\n",
    "\n",
    "# Converting x0 and e to float\n",
    "x0 = float(x0)\n",
    "e = float(e)\n",
    "\n",
    "# Converting N to integer\n",
    "N = int(N)\n",
    "\n",
    "\n",
    "#Note: You can combine above three section like this\n",
    "# x0 = float(input('Enter Guess: '))\n",
    "# e = float(input('Tolerable Error: '))\n",
    "# N = int(input('Maximum Step: '))\n",
    "\n",
    "# Starting Newton Raphson Method\n",
    "newtonRaphson(x0,e,N)"
   ]
  },
  {
   "cell_type": "code",
   "execution_count": null,
   "metadata": {},
   "outputs": [],
   "source": []
  }
 ],
 "metadata": {
  "kernelspec": {
   "display_name": "Python 3",
   "language": "python",
   "name": "python3"
  },
  "language_info": {
   "codemirror_mode": {
    "name": "ipython",
    "version": 3
   },
   "file_extension": ".py",
   "mimetype": "text/x-python",
   "name": "python",
   "nbconvert_exporter": "python",
   "pygments_lexer": "ipython3",
   "version": "3.8.5"
  }
 },
 "nbformat": 4,
 "nbformat_minor": 4
}
