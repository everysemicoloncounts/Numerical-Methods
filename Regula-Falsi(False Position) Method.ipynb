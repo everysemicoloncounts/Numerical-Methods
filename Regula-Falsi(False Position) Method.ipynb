{
 "cells": [
  {
   "cell_type": "code",
   "execution_count": 1,
   "metadata": {},
   "outputs": [],
   "source": [
    "import math"
   ]
  },
  {
   "cell_type": "code",
   "execution_count": 4,
   "metadata": {},
   "outputs": [
    {
     "name": "stdout",
     "output_type": "stream",
     "text": [
      "First Guess: 1\n",
      "Second Guess: 5\n",
      "Tolerable Error: .00001\n",
      "\n",
      "\n",
      "*** FALSE POSITION METHOD IMPLEMENTATION ***\n",
      "Iteration-1, x2 = 1.500000 and f(x2) = -13.125000\n",
      "Iteration-2, x2 = 1.941176 and f(x2) = -11.391207\n",
      "Iteration-3, x2 = 2.281476 and f(x2) = -8.531993\n",
      "Iteration-4, x2 = 2.514511 and f(x2) = -5.673891\n",
      "Iteration-5, x2 = 2.660387 and f(x2) = -3.472624\n",
      "Iteration-6, x2 = 2.746386 and f(x2) = -2.016932\n",
      "Iteration-7, x2 = 2.795253 and f(x2) = -1.135732\n",
      "Iteration-8, x2 = 2.822430 and f(x2) = -0.628360\n",
      "Iteration-9, x2 = 2.837363 and f(x2) = -0.344257\n",
      "Iteration-10, x2 = 2.845514 and f(x2) = -0.187593\n",
      "Iteration-11, x2 = 2.849946 and f(x2) = -0.101923\n",
      "Iteration-12, x2 = 2.852351 and f(x2) = -0.055289\n",
      "Iteration-13, x2 = 2.853655 and f(x2) = -0.029965\n",
      "Iteration-14, x2 = 2.854362 and f(x2) = -0.016233\n",
      "Iteration-15, x2 = 2.854745 and f(x2) = -0.008792\n",
      "Iteration-16, x2 = 2.854952 and f(x2) = -0.004761\n",
      "Iteration-17, x2 = 2.855064 and f(x2) = -0.002578\n",
      "Iteration-18, x2 = 2.855125 and f(x2) = -0.001396\n",
      "Iteration-19, x2 = 2.855158 and f(x2) = -0.000756\n",
      "Iteration-20, x2 = 2.855176 and f(x2) = -0.000409\n",
      "Iteration-21, x2 = 2.855185 and f(x2) = -0.000222\n",
      "Iteration-22, x2 = 2.855190 and f(x2) = -0.000120\n",
      "Iteration-23, x2 = 2.855193 and f(x2) = -0.000065\n",
      "Iteration-24, x2 = 2.855195 and f(x2) = -0.000035\n",
      "Iteration-25, x2 = 2.855196 and f(x2) = -0.000019\n",
      "Iteration-26, x2 = 2.855196 and f(x2) = -0.000010\n",
      "Iteration-27, x2 = 2.855196 and f(x2) = -0.000006\n",
      "\n",
      "Required root is: 2.85519625\n"
     ]
    }
   ],
   "source": [
    "# Defining Function\n",
    "def f(x):\n",
    "    return x**3-5*x-9\n",
    "\n",
    "# Implementing False Position Method\n",
    "def falsePosition(x0,x1,e):\n",
    "    step = 1\n",
    "    print('\\n\\n*** FALSE POSITION METHOD IMPLEMENTATION ***')\n",
    "    condition = True\n",
    "    while condition:\n",
    "        x2 = x0 - (x1-x0) * f(x0)/( f(x1) - f(x0) )\n",
    "        print('Iteration-%d, x2 = %0.6f and f(x2) = %0.6f' % (step, x2, f(x2)))\n",
    "\n",
    "        if f(x0) * f(x2) < 0:\n",
    "            x1 = x2\n",
    "        else:\n",
    "            x0 = x2\n",
    "\n",
    "        step = step + 1\n",
    "        condition = abs(f(x2)) > e\n",
    "\n",
    "    print('\\nRequired root is: %0.8f' % x2)\n",
    "\n",
    "\n",
    "# Input Section\n",
    "x0 = input('First Guess: ')\n",
    "x1 = input('Second Guess: ')\n",
    "e = input('Tolerable Error: ')\n",
    "\n",
    "# Converting input to float\n",
    "x0 = float(x0)\n",
    "x1 = float(x1)\n",
    "e = float(e)\n",
    "\n",
    "#Note: You can combine above two section like this\n",
    "# x0 = float(input('First Guess: '))\n",
    "# x1 = float(input('Second Guess: '))\n",
    "# e = float(input('Tolerable Error: '))\n",
    "\n",
    "\n",
    "# Checking Correctness of initial guess values and false positioning\n",
    "if f(x0) * f(x1) > 0.0:\n",
    "    print('Given guess values do not bracket the root.')\n",
    "    print('Try Again with different guess values.')\n",
    "else:\n",
    "    falsePosition(x0,x1,e)"
   ]
  },
  {
   "cell_type": "code",
   "execution_count": null,
   "metadata": {},
   "outputs": [],
   "source": []
  }
 ],
 "metadata": {
  "kernelspec": {
   "display_name": "Python 3",
   "language": "python",
   "name": "python3"
  },
  "language_info": {
   "codemirror_mode": {
    "name": "ipython",
    "version": 3
   },
   "file_extension": ".py",
   "mimetype": "text/x-python",
   "name": "python",
   "nbconvert_exporter": "python",
   "pygments_lexer": "ipython3",
   "version": "3.8.5"
  }
 },
 "nbformat": 4,
 "nbformat_minor": 4
}
