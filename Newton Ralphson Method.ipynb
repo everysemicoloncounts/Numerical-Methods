{
 "cells": [
  {
   "cell_type": "code",
   "execution_count": 4,
   "metadata": {},
   "outputs": [],
   "source": [
    "import math"
   ]
  },
  {
   "cell_type": "code",
   "execution_count": 6,
   "metadata": {},
   "outputs": [
    {
     "name": "stdout",
     "output_type": "stream",
     "text": [
      "Enter Guess: -1.5\n",
      "Tolerable Error: .00000000001\n",
      "Maximum Step: 40\n",
      "\n",
      "\n",
      "*** NEWTON RAPHSON METHOD IMPLEMENTATION ***\n",
      "Iteration-1, x1 = 0.654188 and f(x1) = 27.194623\n",
      "Iteration-2, x1 = 0.518734 and f(x1) = 9.651384\n",
      "Iteration-3, x1 = 0.392991 and f(x1) = 3.385900\n",
      "Iteration-4, x1 = 0.278946 and f(x1) = 1.171112\n",
      "Iteration-5, x1 = 0.178379 and f(x1) = 0.398358\n",
      "Iteration-6, x1 = 0.092531 and f(x1) = 0.132998\n",
      "Iteration-7, x1 = 0.021812 and f(x1) = 0.043539\n",
      "Iteration-8, x1 = -0.034346 and f(x1) = 0.013979\n",
      "Iteration-9, x1 = -0.077387 and f(x1) = 0.004409\n",
      "Iteration-10, x1 = -0.109332 and f(x1) = 0.001368\n",
      "Iteration-11, x1 = -0.132379 and f(x1) = 0.000418\n",
      "Iteration-12, x1 = -0.148553 and f(x1) = 0.000125\n",
      "Iteration-13, x1 = -0.159441 and f(x1) = 0.000036\n",
      "Iteration-14, x1 = -0.166044 and f(x1) = 0.000009\n",
      "Iteration-15, x1 = -0.168990 and f(x1) = 0.000001\n",
      "Iteration-16, x1 = -0.169584 and f(x1) = 0.000000\n",
      "Iteration-17, x1 = -0.169607 and f(x1) = 0.000000\n",
      "Iteration-18, x1 = -0.169607 and f(x1) = 0.000000\n",
      "\n",
      "Required root is: -0.16960655\n"
     ]
    }
   ],
   "source": [
    "# Defining Function\n",
    "def f(x):\n",
    "    return math.exp(6*x) + 1.441*math.exp(2*x) - 2.079*math.exp(4*x) - 0.3330\n",
    "\n",
    "# Defining first derivative of function\n",
    "def g(x):\n",
    "    return 6*math.exp(6*x) + 2.882*math.exp(2*x) - 8.316*math.exp(4*x)\n",
    "\n",
    "# Implementing Newton Raphson Method\n",
    "\n",
    "def newtonRaphson(x0,e,N):\n",
    "    print('\\n\\n*** NEWTON RAPHSON METHOD IMPLEMENTATION ***')\n",
    "    step = 1\n",
    "    flag = 1\n",
    "    condition = True\n",
    "    while condition:\n",
    "        if g(x0) == 0.0:\n",
    "            print('Divide by zero error!')\n",
    "            break\n",
    "        \n",
    "        x1 = x0 - f(x0)/g(x0)\n",
    "        print('Iteration-%d, x1 = %0.6f and f(x1) = %0.6f' % (step, x1, f(x1)))\n",
    "        x0 = x1\n",
    "        step = step + 1\n",
    "        \n",
    "        if step > N:\n",
    "            flag = 0\n",
    "            break\n",
    "        \n",
    "        condition = abs(f(x1)) > e\n",
    "    \n",
    "    if flag==1:\n",
    "        print('\\nRequired root is: %0.8f' % x1)\n",
    "    else:\n",
    "        print('\\nNot Convergent.')\n",
    "\n",
    "\n",
    "# Input Section\n",
    "x0 = input('Enter Guess: ')\n",
    "e = input('Tolerable Error: ')\n",
    "N = input('Maximum Step: ')\n",
    "\n",
    "# Converting x0 and e to float\n",
    "x0 = float(x0)\n",
    "e = float(e)\n",
    "\n",
    "# Converting N to integer\n",
    "N = int(N)\n",
    "\n",
    "\n",
    "#Note: You can combine above three section like this\n",
    "# x0 = float(input('Enter Guess: '))\n",
    "# e = float(input('Tolerable Error: '))\n",
    "# N = int(input('Maximum Step: '))\n",
    "\n",
    "# Starting Newton Raphson Method\n",
    "newtonRaphson(x0,e,N)"
   ]
  },
  {
   "cell_type": "code",
   "execution_count": null,
   "metadata": {},
   "outputs": [],
   "source": []
  },
  {
   "cell_type": "code",
   "execution_count": null,
   "metadata": {},
   "outputs": [],
   "source": []
  }
 ],
 "metadata": {
  "kernelspec": {
   "display_name": "Python 3",
   "language": "python",
   "name": "python3"
  },
  "language_info": {
   "codemirror_mode": {
    "name": "ipython",
    "version": 3
   },
   "file_extension": ".py",
   "mimetype": "text/x-python",
   "name": "python",
   "nbconvert_exporter": "python",
   "pygments_lexer": "ipython3",
   "version": "3.8.5"
  }
 },
 "nbformat": 4,
 "nbformat_minor": 4
}
